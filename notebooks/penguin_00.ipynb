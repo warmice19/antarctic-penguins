{
 "cells": [
  {
   "cell_type": "markdown",
   "id": "5d660fa8-599f-4ed0-a012-ef51f6c70136",
   "metadata": {},
   "source": [
    "# Data Preprocessing"
   ]
  },
  {
   "cell_type": "code",
   "execution_count": 1,
   "id": "0e3a729a-ed1e-43ef-9f95-3185e83ee656",
   "metadata": {},
   "outputs": [],
   "source": [
    "import polars as pl\n",
    "import numpy as np"
   ]
  },
  {
   "cell_type": "markdown",
   "id": "651e82ff-04ba-45f9-b740-78992596ce16",
   "metadata": {},
   "source": [
    "## Loading data"
   ]
  },
  {
   "cell_type": "code",
   "execution_count": 2,
   "id": "3c860422-4170-412b-91af-2c82e4a2bda2",
   "metadata": {},
   "outputs": [],
   "source": [
    "lter = pl.read_csv(\"./../data/penguins_lter.csv\",try_parse_dates=True)"
   ]
  },
  {
   "cell_type": "code",
   "execution_count": 3,
   "id": "88b41ca5-e318-4d7f-b88f-d105482d4315",
   "metadata": {},
   "outputs": [],
   "source": [
    "lter = (\n",
    "    lter\n",
    "    # ---Parse Date Egg into datetime, keep month-year ---\n",
    "    .with_columns(\n",
    "        pl.col(\"Date Egg\").str.strptime(pl.Date, \"%m/%d/%y\", strict=False).alias(\"egg_date\")\n",
    "    )\n",
    "    # Add formatted date + year\n",
    "    .with_columns([\n",
    "        pl.col(\"egg_date\").dt.strftime(\"%b-%Y\").alias(\"Date egg\"),\n",
    "        pl.col(\"egg_date\").dt.year().alias(\"year\")\n",
    "    ])\n",
    "    # --- Convert studyName → Study years ---\n",
    "    .with_columns(\n",
    "        pl.when(pl.col(\"studyName\").str.contains(r\"^PAL\\d{4}$\"))\n",
    "        .then(\n",
    "            pl.concat_str([\n",
    "                (2000 + pl.col(\"studyName\").str.slice(3, 2).cast(pl.Int64)).cast(pl.Utf8),\n",
    "                pl.lit(\"-\"),\n",
    "                pl.col(\"studyName\").str.slice(5, 2)\n",
    "            ])\n",
    "        )\n",
    "        .otherwise(None)\n",
    "        .alias(\"Study years\")\n",
    "    )\n",
    ")\n",
    "\n",
    "\n",
    "# --- Rename columns to final schema ---\n",
    "lter = lter.rename({\n",
    "    \"Species\": \"species\",\n",
    "    \"Region\": \"Region\",\n",
    "    \"Island\": \"Island\",\n",
    "    \"Clutch Completion\": \"Clutch Completion\",\n",
    "    \"Culmen Length (mm)\": \"culmen length\",\n",
    "    \"Culmen Depth (mm)\": \"culmen depth\",\n",
    "    \"Flipper Length (mm)\": \"flipper length\",\n",
    "    \"Body Mass (g)\": \"body mass\",\n",
    "    \"Sex\": \"sex\",\n",
    "    \"Delta 15 N (o/oo)\": \"Delta 15 N\",\n",
    "    \"Delta 13 C (o/oo)\": \"Delta 13\",\n",
    "    \"Comments\": \"comments\"\n",
    "})\n",
    "\n",
    "# --- Species normalization ---\n",
    "species_map = {\n",
    "    \"adelie\": \"Adelie\",\n",
    "    \"chinstrap\": \"Chinstrap\",\n",
    "    \"gentoo\": \"Gentoo\"\n",
    "}\n",
    "\n",
    "lter = lter.with_columns(\n",
    "    pl.col(\"species\")\n",
    "    .str.to_lowercase()\n",
    "    .map_elements(lambda x: next((v for k, v in species_map.items() if k in x), x))\n",
    "    .alias(\"species\")\n",
    ")\n",
    "\n",
    "# --- Sex normalization ---\n",
    "sex_map = {\n",
    "    \"male\": \"Male\",\n",
    "    \"female\": \"Female\"\n",
    "}\n",
    "\n",
    "lter = lter.with_columns(\n",
    "    pl.col(\"sex\")\n",
    "    .str.to_lowercase()\n",
    "    .map_elements(lambda x: sex_map.get(x, None))\n",
    "    .alias(\"sex\")\n",
    ")\n",
    "\n",
    "\n",
    "# --- Cast values as numeric(float) ---\n",
    "for col in [\"culmen length\", \"culmen depth\", \"flipper length\", \"body mass\",\n",
    "            \"Delta 15 N\", \"Delta 13\"]:\n",
    "    lter = lter.with_columns(pl.col(col).cast(pl.Float64, strict=False))\n",
    "\n",
    "# --- Select only the required columns ---\n",
    "lter_clean = lter.select([\n",
    "    \"Study years\", \"species\", \"Region\", \"Island\", \"Clutch Completion\",\n",
    "    \"Date egg\", \"culmen length\", \"culmen depth\", \"flipper length\",\n",
    "    \"body mass\", \"sex\", \"Delta 15 N\", \"Delta 13\", \"comments\", \"year\" \n",
    "])"
   ]
  },
  {
   "cell_type": "code",
   "execution_count": 4,
   "id": "a39304e0-b5d4-4e69-8429-0ef560cf43e5",
   "metadata": {},
   "outputs": [
    {
     "name": "stdout",
     "output_type": "stream",
     "text": [
      "shape: (1, 15)\n",
      "┌─────────────┬─────────┬────────┬────────┬───┬────────────┬──────────┬──────────┬──────┐\n",
      "│ Study years ┆ species ┆ Region ┆ Island ┆ … ┆ Delta 15 N ┆ Delta 13 ┆ comments ┆ year │\n",
      "│ ---         ┆ ---     ┆ ---    ┆ ---    ┆   ┆ ---        ┆ ---      ┆ ---      ┆ ---  │\n",
      "│ u32         ┆ u32     ┆ u32    ┆ u32    ┆   ┆ u32        ┆ u32      ┆ u32      ┆ u32  │\n",
      "╞═════════════╪═════════╪════════╪════════╪═══╪════════════╪══════════╪══════════╪══════╡\n",
      "│ 0           ┆ 0       ┆ 0      ┆ 0      ┆ … ┆ 14         ┆ 13       ┆ 318      ┆ 0    │\n",
      "└─────────────┴─────────┴────────┴────────┴───┴────────────┴──────────┴──────────┴──────┘\n"
     ]
    }
   ],
   "source": [
    "print(lter_clean.null_count())"
   ]
  },
  {
   "cell_type": "code",
   "execution_count": 5,
   "id": "877fbb5a-a952-40ac-8ed5-0700fb187343",
   "metadata": {},
   "outputs": [],
   "source": [
    "df = lter_clean.clone()\n",
    "\n",
    "for col in df.columns:\n",
    "    if df.schema[col] == pl.Float64:\n",
    "        # Mean and std\n",
    "        mean_val = df.select(pl.col(col).mean()).item()\n",
    "        std_val = df.select(pl.col(col).std()).item()\n",
    "\n",
    "        if mean_val is None or std_val is None:\n",
    "            continue\n",
    "\n",
    "        lower, upper = mean_val - std_val, mean_val + std_val\n",
    "\n",
    "        # Get mask of nulls\n",
    "        mask = df.select(pl.col(col).is_null()).to_series().to_numpy()\n",
    "\n",
    "        if mask.sum() > 0:  # only if nulls exist\n",
    "            # Generate random values for those nulls\n",
    "            random_fill = np.random.uniform(lower, upper, mask.sum())\n",
    "\n",
    "            # Convert column to numpy, replace nulls manually\n",
    "            col_vals = df[col].to_numpy()\n",
    "            col_vals[mask] = random_fill\n",
    "\n",
    "            # Put back into df\n",
    "            df = df.with_columns(pl.Series(name=col, values=col_vals))\n",
    "            "
   ]
  },
  {
   "cell_type": "code",
   "execution_count": 6,
   "id": "4da41fd3-c344-4301-ac56-02adc7e3b8c5",
   "metadata": {},
   "outputs": [
    {
     "name": "stdout",
     "output_type": "stream",
     "text": [
      "shape: (1, 15)\n",
      "┌─────────────┬─────────┬────────┬────────┬───┬────────────┬──────────┬──────────┬──────┐\n",
      "│ Study years ┆ species ┆ Region ┆ Island ┆ … ┆ Delta 15 N ┆ Delta 13 ┆ comments ┆ year │\n",
      "│ ---         ┆ ---     ┆ ---    ┆ ---    ┆   ┆ ---        ┆ ---      ┆ ---      ┆ ---  │\n",
      "│ u32         ┆ u32     ┆ u32    ┆ u32    ┆   ┆ u32        ┆ u32      ┆ u32      ┆ u32  │\n",
      "╞═════════════╪═════════╪════════╪════════╪═══╪════════════╪══════════╪══════════╪══════╡\n",
      "│ 0           ┆ 0       ┆ 0      ┆ 0      ┆ … ┆ 0          ┆ 0        ┆ 318      ┆ 0    │\n",
      "└─────────────┴─────────┴────────┴────────┴───┴────────────┴──────────┴──────────┴──────┘\n"
     ]
    }
   ],
   "source": [
    "print(df.null_count())"
   ]
  },
  {
   "cell_type": "code",
   "execution_count": 7,
   "id": "f13646da-3327-4893-81b6-77ad10502ddc",
   "metadata": {},
   "outputs": [],
   "source": [
    "df.write_csv(\"./../data/cleaned_penguin.csv\")"
   ]
  }
 ],
 "metadata": {
  "kernelspec": {
   "display_name": "Python 3 (ipykernel)",
   "language": "python",
   "name": "python3"
  },
  "language_info": {
   "codemirror_mode": {
    "name": "ipython",
    "version": 3
   },
   "file_extension": ".py",
   "mimetype": "text/x-python",
   "name": "python",
   "nbconvert_exporter": "python",
   "pygments_lexer": "ipython3",
   "version": "3.11.13"
  }
 },
 "nbformat": 4,
 "nbformat_minor": 5
}
